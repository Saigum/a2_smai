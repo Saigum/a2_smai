{
 "cells": [
  {
   "cell_type": "code",
   "execution_count": 1,
   "metadata": {},
   "outputs": [],
   "source": [
    "import cupy as cp\n",
    "import pandas as pd\n",
    "import pandas as pd\n",
    "\n",
    "train_df = pd.read_csv(\"news_article/train.csv\")\n",
    "test_df = pd.read_csv(\"news_article/test.csv\")\n",
    "\n",
    "train_df = train_df.dropna(axis=1)\n",
    "test_df = test_df.dropna(axis=1)\n"
   ]
  },
  {
   "cell_type": "code",
   "execution_count": 34,
   "metadata": {},
   "outputs": [
    {
     "name": "stdout",
     "output_type": "stream",
     "text": [
      "['BAHIA', 'COCOA', 'REVIEW', '', 'Showers', 'continued', 'throughout', 'the', 'week', 'in', '', 'the', 'Bahia', 'cocoa', 'zone', 'alleviating', 'the', 'drought', 'since', 'early', '', 'January', 'and', 'improving', 'prospects', 'for', 'the', 'coming', 'temporao', '', 'although', 'normal', 'humidity', 'levels', 'have', 'not', 'been', 'restored', '', 'Comissaria', 'Smith', 'said', 'in', 'its', 'weekly', 'review', '', '', '', '', '', 'The', 'dry', 'period', 'means', 'the', 'temporao', 'will', 'be', 'late', 'this', 'year', '', '', '', '', '', 'Arrivals', 'for', 'the', 'week', 'ended', 'February', '22', 'were', '155221', 'bags', '', 'of', '60', 'kilos', 'making', 'a', 'cumulative', 'total', 'for', 'the', 'season', 'of', '593', '', 'mln', 'against', '581', 'at', 'the', 'same', 'stage', 'last', 'year', 'Again', 'it', 'seems', '', 'that', 'cocoa', 'delivered', 'earlier', 'on', 'consignment', 'was', 'included', 'in', 'the', '', 'arrivals', 'figures', '', '', '', '', '', 'Comissaria', 'Smith', 'said', 'there', 'is', 'still', 'some', 'doubt', 'as', 'to', 'how', '', 'much', 'old', 'crop', 'cocoa', 'is', 'still', 'available', 'as', 'harvesting', 'has', '', 'practically', 'come', 'to', 'an', 'end', 'With', 'total', 'Bahia', 'crop', 'estimates', '', 'around', '64', 'mln', 'bags', 'and', 'sales', 'standing', 'at', 'almost', '62', 'mln', 'there', '', 'are', 'a', 'few', 'hundred', 'thousand', 'bags', 'still', 'in', 'the', 'hands', 'of', 'farmers', '', 'middlemen', 'exporters', 'and', 'processors', '', '', '', '', '', 'There', 'are', 'doubts', 'as', 'to', 'how', 'much', 'of', 'this', 'cocoa', 'would', 'be', 'fit', '', 'for', 'export', 'as', 'shippers', 'are', 'now', 'experiencing', 'dificulties', 'in', '', 'obtaining', '+Bahia', 'superior+', 'certificates', '', '', '', '', '', 'In', 'view', 'of', 'the', 'lower', 'quality', 'over', 'recent', 'weeks', 'farmers', 'have', '', 'sold', 'a', 'good', 'part', 'of', 'their', 'cocoa', 'held', 'on', 'consignment', '', '', '', '', '', 'Comissaria', 'Smith', 'said', 'spot', 'bean', 'prices', 'rose', 'to', '340', 'to', '350', '', 'cruzados', 'per', 'arroba', 'of', '15', 'kilos', '', '', '', '', '', 'Bean', 'shippers', 'were', 'reluctant', 'to', 'offer', 'nearby', 'shipment', 'and', '', 'only', 'limited', 'sales', 'were', 'booked', 'for', 'March', 'shipment', 'at', '1750', 'to', '', '1780', 'dlrs', 'per', 'tonne', 'to', 'ports', 'to', 'be', 'named', '', '', '', '', '', 'New', 'crop', 'sales', 'were', 'also', 'light', 'and', 'all', 'to', 'open', 'ports', 'with', '', 'June/July', 'going', 'at', '1850', 'and', '1880', 'dlrs', 'and', 'at', '35', 'and', '45', 'dlrs', '', 'under', 'New', 'York', 'july', 'Aug/Sept', 'at', '1870', '1875', 'and', '1880', 'dlrs', '', 'per', 'tonne', 'FOB', '', '', '', '', '', 'Routine', 'sales', 'of', 'butter', 'were', 'made', 'March/April', 'sold', 'at', '', '4340', '4345', 'and', '4350', 'dlrs', '', '', '', '', '', 'April/May', 'butter', 'went', 'at', '227', 'times', 'New', 'York', 'May', 'June/July', '', 'at', '4400', 'and', '4415', 'dlrs', 'Aug/Sept', 'at', '4351', 'to', '4450', 'dlrs', 'and', 'at', '', '227', 'and', '228', 'times', 'New', 'York', 'Sept', 'and', 'Oct/Dec', 'at', '4480', 'dlrs', 'and', '', '227', 'times', 'New', 'York', 'Dec', 'Comissaria', 'Smith', 'said', '', '', '', '', '', 'Destinations', 'were', 'the', 'US', 'Covertible', 'currency', 'areas', '', 'Uruguay', 'and', 'open', 'ports', '', '', '', '', '', 'Cake', 'sales', 'were', 'registered', 'at', '785', 'to', '995', 'dlrs', 'for', '', 'March/April', '785', 'dlrs', 'for', 'May', '753', 'dlrs', 'for', 'Aug', 'and', '039', 'times', '', 'New', 'York', 'Dec', 'for', 'Oct/Dec', '', '', '', '', '', 'Buyers', 'were', 'the', 'US', 'Argentina', 'Uruguay', 'and', 'convertible', '', 'currency', 'areas', '', '', '', '', '', 'Liquor', 'sales', 'were', 'limited', 'with', 'March/April', 'selling', 'at', '2325', '', 'and', '2380', 'dlrs', 'June/July', 'at', '2375', 'dlrs', 'and', 'at', '125', 'times', 'New', '', 'York', 'July', 'Aug/Sept', 'at', '2400', 'dlrs', 'and', 'at', '125', 'times', 'New', 'York', '', 'Sept', 'and', 'Oct/Dec', 'at', '125', 'times', 'New', 'York', 'Dec', 'Comissaria', 'Smith', '', 'said', '', '', '', '', '', 'Total', 'Bahia', 'sales', 'are', 'currently', 'estimated', 'at', '613', 'mln', 'bags', '', 'against', 'the', '1986/87', 'crop', 'and', '106', 'mln', 'bags', 'against', 'the', '1987/88', '', 'crop', '', '', '', '', '', 'Final', 'figures', 'for', 'the', 'period', 'to', 'February', '28', 'are', 'expected', 'to', '', 'be', 'published', 'by', 'the', 'Brazilian', 'Cocoa', 'Trade', 'Commission', 'after', '', 'carnival', 'which', 'ends', 'midday', 'on', 'February', '27', '', '']\n"
     ]
    }
   ],
   "source": [
    "print(train_df.iloc[0][\"document\"].replace(\",\",\"\").replace(\".\",\"\").replace(\"\\n\",\"\").replace(\"!\",\"\").split(\" \"))"
   ]
  },
  {
   "cell_type": "code",
   "execution_count": null,
   "metadata": {},
   "outputs": [],
   "source": [
    "\n",
    "class tf_idf:\n",
    "    def __init__(self,document:str):\n",
    "        words = document.replace(\",\",\"\").replace(\".\",\"\").replace(\"\\n\",\"\").replace(\"!\",\"\").split(\" \")\n",
    "        vocab = {}\n",
    "       \n",
    "        "
   ]
  },
  {
   "cell_type": "code",
   "execution_count": null,
   "metadata": {},
   "outputs": [],
   "source": []
  }
 ],
 "metadata": {
  "kernelspec": {
   "display_name": "Pytorch",
   "language": "python",
   "name": "python3"
  },
  "language_info": {
   "codemirror_mode": {
    "name": "ipython",
    "version": 3
   },
   "file_extension": ".py",
   "mimetype": "text/x-python",
   "name": "python",
   "nbconvert_exporter": "python",
   "pygments_lexer": "ipython3",
   "version": "3.12.3"
  }
 },
 "nbformat": 4,
 "nbformat_minor": 2
}
